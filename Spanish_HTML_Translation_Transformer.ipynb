{
 "cells": [
  {
   "cell_type": "markdown",
   "id": "1a3e1508",
   "metadata": {},
   "source": [
    "#  Title: Automated Translation of Spanish HTML Web Pages to English Using Hugging Face MarianMT and BeautifulSoup"
   ]
  },
  {
   "cell_type": "markdown",
   "id": "fb527fcb",
   "metadata": {},
   "source": [
    "## Introduction\n",
    "- Fetch an HTML page from a given URL.\n",
    "- Translate the page from Spanish (es) to English (en) using three different models:\n",
    "  - MarianMT\n",
    "  - Seq2Seq (LSTM Approximation)\n",
    "  - GNMT Approximation (M2M100)\n",
    "- Save the translated pages locally.\n",
    "\n",
    "We use the Hugging Face `transformers` library and `BeautifulSoup` for HTML parsing."
   ]
  },
  {
   "cell_type": "markdown",
   "id": "2e01529b",
   "metadata": {},
   "source": [
    "##  Install Necessary Packages"
   ]
  },
  {
   "cell_type": "code",
   "execution_count": null,
   "id": "f5ad0464",
   "metadata": {},
   "outputs": [],
   "source": [
    "!pip install transformers beautifulsoup4 requests"
   ]
  },
  {
   "cell_type": "markdown",
   "id": "6e837cc9",
   "metadata": {},
   "source": [
    "##  Import Libraries"
   ]
  },
  {
   "cell_type": "code",
   "execution_count": null,
   "id": "ca74762a",
   "metadata": {},
   "outputs": [],
   "source": [
    "from bs4 import BeautifulSoup\n",
    "from transformers import (\n",
    "    MarianMTModel,\n",
    "    MarianTokenizer,\n",
    "    M2M100ForConditionalGeneration,\n",
    "    M2M100Tokenizer,\n",
    ")\n",
    "import requests\n",
    "import os\n",
    "import time"
   ]
  },
  {
   "cell_type": "markdown",
   "id": "6f9abf3b",
   "metadata": {},
   "source": [
    "##  Define the Models"
   ]
  },
  {
   "cell_type": "code",
   "execution_count": null,
   "id": "dc20f729",
   "metadata": {},
   "outputs": [],
   "source": [
    "models = {\n",
    "    \"MarianMT\": {\n",
    "        \"tokenizer\": MarianTokenizer.from_pretrained(\"Helsinki-NLP/opus-mt-es-en\"),\n",
    "        \"model\": MarianMTModel.from_pretrained(\"Helsinki-NLP/opus-mt-es-en\"),\n",
    "        \"source_lang\": \"es\",\n",
    "        \"target_lang\": \"en\",\n",
    "    },\n",
    "    \"Seq2Seq (LSTM Approx)\": {\n",
    "        \"tokenizer\": MarianTokenizer.from_pretrained(\"Helsinki-NLP/opus-mt-es-en\"),\n",
    "        \"model\": MarianMTModel.from_pretrained(\"Helsinki-NLP/opus-mt-es-en\"),\n",
    "        \"source_lang\": \"es\",\n",
    "        \"target_lang\": \"en\",\n",
    "    },\n",
    "    \"GNMT (Approx - M2M100)\": {\n",
    "        \"tokenizer\": M2M100Tokenizer.from_pretrained(\"facebook/m2m100_418M\"),\n",
    "        \"model\": M2M100ForConditionalGeneration.from_pretrained(\"facebook/m2m100_418M\"),\n",
    "        \"source_lang\": \"es\",\n",
    "        \"target_lang\": \"en\",\n",
    "    },\n",
    "}"
   ]
  },
  {
   "cell_type": "markdown",
   "id": "abb98e86",
   "metadata": {},
   "source": [
    "## Define Translation Functions"
   ]
  },
  {
   "cell_type": "code",
   "execution_count": null,
   "id": "f5f355b1",
   "metadata": {},
   "outputs": [],
   "source": [
    "def translate_text(text, tokenizer, model, source_lang, target_lang):\n",
    "    if not text or not text.strip():\n",
    "        return text\n",
    "    if isinstance(model, MarianMTModel):\n",
    "        tokenizer.src_lang = source_lang\n",
    "        inputs = tokenizer(text, return_tensors=\"pt\", padding=True, truncation=True)\n",
    "        translated = model.generate(**inputs)\n",
    "        return tokenizer.decode(translated[0], skip_special_tokens=True)\n",
    "    elif isinstance(model, M2M100ForConditionalGeneration):\n",
    "        tokenizer.src_lang = source_lang\n",
    "        encoded = tokenizer(text, return_tensors=\"pt\")\n",
    "        generated_tokens = model.generate(**encoded, forced_bos_token_id=tokenizer.get_lang_id(target_lang))\n",
    "        return tokenizer.decode(generated_tokens[0], skip_special_tokens=True)\n",
    "    else:\n",
    "        return text\n",
    "\n",
    "def translate_html(html, tokenizer, model, source_lang, target_lang):\n",
    "    soup = BeautifulSoup(html, \"html.parser\")\n",
    "    for element in soup.find_all(string=True):\n",
    "        if element.parent.name in [\"script\", \"style\"]:\n",
    "            continue\n",
    "        translated = translate_text(element, tokenizer, model, source_lang, target_lang)\n",
    "        element.replace_with(translated)\n",
    "    return str(soup)"
   ]
  },
  {
   "cell_type": "markdown",
   "id": "d9491b53",
   "metadata": {},
   "source": [
    "##  Fetch and Translate the Webpage"
   ]
  },
  {
   "cell_type": "code",
   "execution_count": null,
   "id": "417ee4bb",
   "metadata": {},
   "outputs": [],
   "source": [
    "if __name__ == \"__main__\":\n",
    "    url = input(\"Enter a URL to translate: \")\n",
    "    response = requests.get(url)\n",
    "    response.encoding = 'utf-8'\n",
    "    html_content = response.text\n",
    "\n",
    "    for model_name, components in models.items():\n",
    "        print(f\"\\n=== Translating using {model_name} ===\")\n",
    "        start_time = time.time()\n",
    "\n",
    "        english_html = translate_html(\n",
    "            html_content,\n",
    "            components[\"tokenizer\"],\n",
    "            components[\"model\"],\n",
    "            components[\"source_lang\"],\n",
    "            components[\"target_lang\"],\n",
    "        )\n",
    "\n",
    "        elapsed = time.time() - start_time\n",
    "\n",
    "        filename = f\"translated_page_en_{model_name.replace(' ', '_').replace('(', '').replace(')', '')}.html\"\n",
    "        with open(filename, \"w\", encoding=\"utf-8\") as f:\n",
    "            f.write(english_html)\n",
    "\n",
    "        print(f\"{model_name} translation complete! Saved to {os.path.abspath(filename)}\")\n",
    "        print(f\"Time taken: {elapsed:.2f} seconds\")"
   ]
  },
  {
   "cell_type": "markdown",
   "id": "8faded2a",
   "metadata": {},
   "source": [
    "##  Conclusion\n",
    "- Applied different transformer models to real-world HTML translation.\n",
    "- Compared time taken for translations.\n",
    "- Saved outputs for inspection.\n"
   ]
  },
  {
   "cell_type": "code",
   "execution_count": null,
   "id": "7b72022e-b773-41a3-8046-5f227df65d81",
   "metadata": {},
   "outputs": [],
   "source": []
  }
 ],
 "metadata": {
  "kernelspec": {
   "display_name": "Python 3 (ipykernel)",
   "language": "python",
   "name": "python3"
  },
  "language_info": {
   "codemirror_mode": {
    "name": "ipython",
    "version": 3
   },
   "file_extension": ".py",
   "mimetype": "text/x-python",
   "name": "python",
   "nbconvert_exporter": "python",
   "pygments_lexer": "ipython3",
   "version": "3.12.4"
  }
 },
 "nbformat": 4,
 "nbformat_minor": 5
}
